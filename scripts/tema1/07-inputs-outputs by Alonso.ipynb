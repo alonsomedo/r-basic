{
 "cells": [
  {
   "cell_type": "markdown",
   "metadata": {},
   "source": [
    "# Inputs"
   ]
  },
  {
   "cell_type": "code",
   "execution_count": 1,
   "metadata": {},
   "outputs": [],
   "source": [
    "x = 5\n"
   ]
  },
  {
   "cell_type": "code",
   "execution_count": 2,
   "metadata": {},
   "outputs": [
    {
     "name": "stdout",
     "output_type": "stream",
     "text": [
      "5\n"
     ]
    }
   ],
   "source": [
    "print(x)"
   ]
  },
  {
   "cell_type": "code",
   "execution_count": 3,
   "metadata": {},
   "outputs": [
    {
     "name": "stdout",
     "output_type": "stream",
     "text": [
      "Cual es tu edad12\n",
      "Cual es la edad de tu hermano13\n",
      "1213\n"
     ]
    }
   ],
   "source": [
    "x1 = input('Cual es tu edad')\n",
    "x2 = input('Cual es la edad de tu hermano')\n",
    "print(x1+x2)"
   ]
  },
  {
   "cell_type": "code",
   "execution_count": 4,
   "metadata": {},
   "outputs": [
    {
     "name": "stdout",
     "output_type": "stream",
     "text": [
      "Cual es tu edad: 12\n",
      "Cual es la edad de tu hermano: 13\n",
      "25\n"
     ]
    }
   ],
   "source": [
    "x1 = int(input('Cual es tu edad: '))\n",
    "x2 = int(input('Cual es la edad de tu hermano: '))\n",
    "print(x1+x2)"
   ]
  },
  {
   "cell_type": "code",
   "execution_count": 7,
   "metadata": {},
   "outputs": [
    {
     "name": "stdout",
     "output_type": "stream",
     "text": [
      "Mi nombre es: Alonso y mi edad es: 23\n"
     ]
    }
   ],
   "source": [
    "x = 'Alonso'\n",
    "y = 23\n",
    "print('Mi nombre es: '+ str(x) + ' y mi edad es: '+ str(y))"
   ]
  },
  {
   "cell_type": "markdown",
   "metadata": {},
   "source": [
    "# Operadores de desición"
   ]
  },
  {
   "cell_type": "code",
   "execution_count": 4,
   "metadata": {},
   "outputs": [
    {
     "name": "stdout",
     "output_type": "stream",
     "text": [
      "Ingresa tu edad: 15\n",
      "Tu edad es un número impar.\n"
     ]
    }
   ],
   "source": [
    "age = int(input('Ingresa tu edad: '))\n",
    "if age%2 == 0:\n",
    "    print('Tu edad es un número par.')\n",
    "else:\n",
    "    print('Tu edad es un número impar.')"
   ]
  },
  {
   "cell_type": "code",
   "execution_count": 2,
   "metadata": {},
   "outputs": [
    {
     "data": {
      "text/plain": [
       "0"
      ]
     },
     "execution_count": 2,
     "metadata": {},
     "output_type": "execute_result"
    }
   ],
   "source": [
    "14%2"
   ]
  },
  {
   "cell_type": "code",
   "execution_count": 5,
   "metadata": {},
   "outputs": [],
   "source": [
    "import math"
   ]
  },
  {
   "cell_type": "code",
   "execution_count": 6,
   "metadata": {},
   "outputs": [
    {
     "name": "stdout",
     "output_type": "stream",
     "text": [
      "Ingresa el año en que naciste: 2018\n",
      "El año ingresado es par.\n"
     ]
    }
   ],
   "source": [
    "year = int(input('Ingresa el año en que naciste: '))\n",
    "if math.fmod(year,2) == 0:\n",
    "    print(\"El año ingresado es par.\")\n",
    "elif math.fmod(year,2) != 0:\n",
    "    print(\"El año ingresado no es par.\")"
   ]
  },
  {
   "cell_type": "code",
   "execution_count": null,
   "metadata": {},
   "outputs": [],
   "source": []
  }
 ],
 "metadata": {
  "kernelspec": {
   "display_name": "Python 3",
   "language": "python",
   "name": "python3"
  },
  "language_info": {
   "codemirror_mode": {
    "name": "ipython",
    "version": 3
   },
   "file_extension": ".py",
   "mimetype": "text/x-python",
   "name": "python",
   "nbconvert_exporter": "python",
   "pygments_lexer": "ipython3",
   "version": "3.7.1"
  }
 },
 "nbformat": 4,
 "nbformat_minor": 2
}
