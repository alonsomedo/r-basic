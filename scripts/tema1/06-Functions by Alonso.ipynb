{
 "cells": [
  {
   "cell_type": "markdown",
   "metadata": {},
   "source": [
    "# Funciones en Python"
   ]
  },
  {
   "cell_type": "code",
   "execution_count": 6,
   "metadata": {},
   "outputs": [],
   "source": [
    "def suma(x,y):\n",
    "    return x + y\n"
   ]
  },
  {
   "cell_type": "code",
   "execution_count": 4,
   "metadata": {},
   "outputs": [],
   "source": [
    "class Operaciones(object):\n",
    "    def suma(self,x,y):\n",
    "        self.resultado = x+y\n",
    "        return self.resultado \n",
    "    "
   ]
  },
  {
   "cell_type": "code",
   "execution_count": 5,
   "metadata": {},
   "outputs": [
    {
     "data": {
      "text/plain": [
       "7"
      ]
     },
     "execution_count": 5,
     "metadata": {},
     "output_type": "execute_result"
    }
   ],
   "source": [
    "# Funcion suma\n",
    "suma(4,3)"
   ]
  },
  {
   "cell_type": "code",
   "execution_count": 7,
   "metadata": {},
   "outputs": [
    {
     "data": {
      "text/plain": [
       "5"
      ]
     },
     "execution_count": 7,
     "metadata": {},
     "output_type": "execute_result"
    }
   ],
   "source": [
    "opeInstance = Operaciones()\n",
    "opeInstance.suma(2,3)"
   ]
  },
  {
   "cell_type": "code",
   "execution_count": 14,
   "metadata": {},
   "outputs": [],
   "source": [
    "def saludar():\n",
    "    name = input(\"Introduce tu nombre: \")\n",
    "    if name:\n",
    "        print(\"Hola \"+name)\n",
    "    else:\n",
    "        print(\"Hola, estoy programando\")"
   ]
  },
  {
   "cell_type": "code",
   "execution_count": 15,
   "metadata": {},
   "outputs": [
    {
     "name": "stdout",
     "output_type": "stream",
     "text": [
      "Introduce tu nombre: Alonso\n",
      "Hola Alonso\n"
     ]
    }
   ],
   "source": [
    "saludar()"
   ]
  },
  {
   "cell_type": "code",
   "execution_count": 16,
   "metadata": {},
   "outputs": [
    {
     "data": {
      "text/plain": [
       "14"
      ]
     },
     "execution_count": 16,
     "metadata": {},
     "output_type": "execute_result"
    }
   ],
   "source": [
    "suma(3,4)*2"
   ]
  },
  {
   "cell_type": "code",
   "execution_count": 18,
   "metadata": {},
   "outputs": [],
   "source": [
    "def buscarPares(val):\n",
    "    for i in range(val):\n",
    "        if i%2==0:\n",
    "            print(i)\n",
    "            \n"
   ]
  },
  {
   "cell_type": "code",
   "execution_count": 19,
   "metadata": {},
   "outputs": [
    {
     "name": "stdout",
     "output_type": "stream",
     "text": [
      "0\n",
      "2\n"
     ]
    }
   ],
   "source": [
    "buscarPares(4)"
   ]
  },
  {
   "cell_type": "code",
   "execution_count": 20,
   "metadata": {},
   "outputs": [],
   "source": [
    "def sumaresta(x,y):\n",
    "    suma = x+y\n",
    "    resta = x-y\n",
    "    return suma,resta"
   ]
  },
  {
   "cell_type": "code",
   "execution_count": 21,
   "metadata": {},
   "outputs": [
    {
     "data": {
      "text/plain": [
       "(9, -1)"
      ]
     },
     "execution_count": 21,
     "metadata": {},
     "output_type": "execute_result"
    }
   ],
   "source": [
    "sumaresta(4,5)"
   ]
  },
  {
   "cell_type": "code",
   "execution_count": 22,
   "metadata": {},
   "outputs": [],
   "source": [
    "def sumaVariable(*args):\n",
    "    return sum(args)"
   ]
  },
  {
   "cell_type": "code",
   "execution_count": 23,
   "metadata": {},
   "outputs": [
    {
     "data": {
      "text/plain": [
       "15"
      ]
     },
     "execution_count": 23,
     "metadata": {},
     "output_type": "execute_result"
    }
   ],
   "source": [
    "sumaVariable(5,3,2,5)"
   ]
  },
  {
   "cell_type": "code",
   "execution_count": 26,
   "metadata": {},
   "outputs": [],
   "source": [
    "def sumaCuadrados(*datos):\n",
    "    total = 0\n",
    "    for d in datos:\n",
    "        total = total + d**2\n",
    "    return total    \n",
    "    "
   ]
  },
  {
   "cell_type": "code",
   "execution_count": 28,
   "metadata": {},
   "outputs": [
    {
     "data": {
      "text/plain": [
       "20"
      ]
     },
     "execution_count": 28,
     "metadata": {},
     "output_type": "execute_result"
    }
   ],
   "source": [
    "sumaCuadrados(2,4)"
   ]
  },
  {
   "cell_type": "markdown",
   "metadata": {},
   "source": [
    "# Assignment\n"
   ]
  },
  {
   "cell_type": "code",
   "execution_count": 3,
   "metadata": {},
   "outputs": [
    {
     "name": "stdout",
     "output_type": "stream",
     "text": [
      "Ingrese un número: -5\n",
      "El número es negativo\n"
     ]
    }
   ],
   "source": [
    "# Escribe una secuencia de instrucciones que permitan leer un número real por pantalla y que muestre \n",
    "# si el número es positivo o no.\n",
    "\n",
    "inputValue = int(input(\"Ingrese un número: \"))\n",
    "if inputValue > 0:\n",
    "    print(\"El número es positivo\")\n",
    "else:\n",
    "    print(\"El número es negativo\")\n"
   ]
  },
  {
   "cell_type": "code",
   "execution_count": 6,
   "metadata": {},
   "outputs": [
    {
     "name": "stdout",
     "output_type": "stream",
     "text": [
      "Ingrese un número: -3\n",
      "El número esta en el rango de -5 y 5.\n"
     ]
    }
   ],
   "source": [
    "# Escribe una secuencia de instrucciones que permitan leer un número real por pantalla y que muestre \n",
    "# si el número está en el rango entre -5 y 5\n",
    "\n",
    "inputValue = int(input(\"Ingrese un número: \"))\n",
    "if -5 <= inputValue <= 5:\n",
    "    print(\"El número esta en el rango de -5 y 5.\")\n",
    "else:\n",
    "    print(\"El número está fuera del rango de -5 y 5.\")"
   ]
  },
  {
   "cell_type": "code",
   "execution_count": 7,
   "metadata": {},
   "outputs": [
    {
     "name": "stdout",
     "output_type": "stream",
     "text": [
      "El punto se encuentra en el segundo cuadrante.\n"
     ]
    }
   ],
   "source": [
    "# Escribe una secuencia de instrucciones que permitan leer las coordenadas de un punto (x, y) \n",
    "# e indique en cuál de los cuatro cuadrantes se encuentra dicho punto.\n",
    "\n",
    "def calculoCuadrante(x,y):\n",
    "    if x > 0 and y > 0:\n",
    "        print (\"El punto se encuentra en el primer cuadrante.\")\n",
    "    elif x<0 and y > 0:\n",
    "        print(\"El punto se encuentra en el segundo cuadrante.\")\n",
    "    elif x<0 and y<0: \n",
    "        print(\"El punto se encuentra en el tercer cuadrante.\")\n",
    "    elif x>0 and y<0:\n",
    "        print(\"El punto se encuentra en el cuarto cuadrante.\")\n",
    "\n",
    "calculoCuadrante(-3,5)"
   ]
  },
  {
   "cell_type": "code",
   "execution_count": 13,
   "metadata": {},
   "outputs": [
    {
     "name": "stdout",
     "output_type": "stream",
     "text": [
      "El cociente es:1\n",
      "El resto es:2\n"
     ]
    }
   ],
   "source": [
    "# Escribe una secuencia de instrucciones que permitan leer dos números enteros \n",
    "# y muestre el cociente de la división entera y el resto.\n",
    "def argumentosDivision(x,y):\n",
    "    print(\"El cociente es:\" + str(x//y))\n",
    "    print(\"El resto es:\"+ str(x%y))\n",
    "\n",
    "argumentosDivision(5,3)"
   ]
  },
  {
   "cell_type": "code",
   "execution_count": 17,
   "metadata": {},
   "outputs": [],
   "source": [
    "import math"
   ]
  },
  {
   "cell_type": "code",
   "execution_count": 37,
   "metadata": {},
   "outputs": [
    {
     "name": "stdout",
     "output_type": "stream",
     "text": [
      "Ingrese un número: 5.3\n",
      "El numero no es cuadrado perfecto.\n"
     ]
    }
   ],
   "source": [
    "# Escribe una secuencia de instrucciones que permitan leer un número entero es cuadrado perfecto \n",
    "# o no (piensa la mejor forma de hacerlo con lo que has aprendido hasta ahora)\n",
    "x = float(input(\"Ingrese un número: \"))\n",
    "exponente = math.sqrt(x)\n",
    "if x%exponente == 0:\n",
    "    print(\"El numero es cuadrado perfecto.\")\n",
    "else:\n",
    "    print(\"El numero no es cuadrado perfecto.\")"
   ]
  },
  {
   "cell_type": "code",
   "execution_count": 26,
   "metadata": {},
   "outputs": [
    {
     "name": "stdout",
     "output_type": "stream",
     "text": [
      "Ingrese número:2100\n",
      "No es año bisiesto.\n"
     ]
    }
   ],
   "source": [
    "# Escribe una expresión que permita determinar si un número entero positivo puede corresponder a un año bisiesto o no. \n",
    "# Se consideran años bisiestos aquellos cuyo número es divisible por cuatro excepto los años que son múltiplos de 100, \n",
    "# a no ser que lo sean de 400 (por ejemplo el año 2000 fue bisiesto pero el 2100 no lo será).\n",
    "\n",
    "value = int(input(\"Ingrese número:\"))\n",
    "if value%4 == 0 and value%400 == 0:\n",
    "    print(\"Es año bisiesto.\")\n",
    "elif value%4 == 0 and value%100 != 0:\n",
    "    print(\"Es año bisiesto.\")\n",
    "elif value%4 == 0 and value%100 == 0 and value%400 != 0:\n",
    "    print(\"No es año bisiesto.\")\n",
    "        \n",
    "    "
   ]
  },
  {
   "cell_type": "code",
   "execution_count": 33,
   "metadata": {},
   "outputs": [
    {
     "name": "stdout",
     "output_type": "stream",
     "text": [
      "Ingrese una letra: G\n",
      "Ingrese un numero: 3\n",
      "La casilla es negra.\n"
     ]
    }
   ],
   "source": [
    "# Busca la imagen de un tablero de ajedrez en Google y fíjate en la nomenclatura de las casillas. \n",
    "# Escribe una expresión lea una letra y un número de teclado correspondiente a una casilla de un tablero de ajedrez \n",
    "# y nos indique si esta casilla es negra o blanca.\n",
    "letra = input(\"Ingrese una letra: \")\n",
    "numero = input(\"Ingrese un numero: \")\n",
    "\n",
    "letrasImpares = [\"A\",\"C\",\"E\",\"G\"] \n",
    "letrasPares = [\"B\",\"D\",\"F\",\"H\"]\n",
    "\n",
    "def ajedrezNegraBlanca(letra,numero):\n",
    "    \n",
    "    if letra in letrasImpares:\n",
    "        for i in range(8):\n",
    "            if i == numero and i%2 ==0:\n",
    "                print(\"La casilla es blanca.\")\n",
    "                return\n",
    "            else:\n",
    "                print(\"La casilla es negra.\")\n",
    "                return\n",
    "    \n",
    "    if letra in letrasPares:\n",
    "        for i in range(8):\n",
    "            if i == numero and i%2 == 0:\n",
    "                print(\"La casilla es negra.\")\n",
    "                return\n",
    "            else:\n",
    "                print(\"La casilla es blanca.\")\n",
    "                return\n",
    "\n",
    "ajedrezNegraBlanca(letra,numero)\n",
    "\n",
    "    "
   ]
  },
  {
   "cell_type": "code",
   "execution_count": null,
   "metadata": {},
   "outputs": [],
   "source": []
  }
 ],
 "metadata": {
  "kernelspec": {
   "display_name": "Python 3",
   "language": "python",
   "name": "python3"
  },
  "language_info": {
   "codemirror_mode": {
    "name": "ipython",
    "version": 3
   },
   "file_extension": ".py",
   "mimetype": "text/x-python",
   "name": "python",
   "nbconvert_exporter": "python",
   "pygments_lexer": "ipython3",
   "version": "3.7.1"
  }
 },
 "nbformat": 4,
 "nbformat_minor": 2
}
