{
 "cells": [
  {
   "cell_type": "code",
   "execution_count": 10,
   "metadata": {},
   "outputs": [],
   "source": [
    "#Crea una función que reciba los tres coeficientes a, b y c para resolver una ecuación de segundo grado. \n",
    "#Muestra la solución por pantalla y ayúdate de la librería Math para acceder a la función raíz cuadrada\n",
    "import math"
   ]
  },
  {
   "cell_type": "code",
   "execution_count": 18,
   "metadata": {},
   "outputs": [
    {
     "name": "stdout",
     "output_type": "stream",
     "text": [
      "-1.0 2.0\n"
     ]
    }
   ],
   "source": [
    "def solveEquation(a,b,c):\n",
    "    sol1 = (-b + math.sqrt((b**2)-4*a*c))/2*a\n",
    "    sol2 = (-b - math.sqrt((b**2)-4*a*c))/2*a\n",
    "    print(sol1,sol2)\n",
    "\n",
    "solveEquation(-1,1,2)\n",
    "    "
   ]
  },
  {
   "cell_type": "code",
   "execution_count": 29,
   "metadata": {},
   "outputs": [
    {
     "name": "stdout",
     "output_type": "stream",
     "text": [
      "Ingrese la frase: Anita lava la tina\n"
     ]
    },
    {
     "data": {
      "text/plain": [
       "'Es palíndromo'"
      ]
     },
     "execution_count": 29,
     "metadata": {},
     "output_type": "execute_result"
    }
   ],
   "source": [
    "def palindromo():\n",
    "    text = input(\"Ingrese la frase: \")\n",
    "    text = text.lower().replace(\" \",\"\")\n",
    "    if text == text[::-1]:\n",
    "        return \"Es palíndromo\"\n",
    "    else:\n",
    "        return \"No es palíndromo\"\n",
    "\n",
    "palindromo()\n"
   ]
  },
  {
   "cell_type": "code",
   "execution_count": 36,
   "metadata": {},
   "outputs": [
    {
     "name": "stdout",
     "output_type": "stream",
     "text": [
      "{'1': 1.0, '2': 1.4142135623730951, '3': 1.7320508075688772, '4': 2.0, '5': 2.23606797749979, '6': 2.449489742783178, '7': 2.6457513110645907, '8': 2.8284271247461903, '9': 3.0, '10': 3.1622776601683795}\n"
     ]
    }
   ],
   "source": [
    "dic = {}\n",
    "for i in range(10):\n",
    "    dic.update({str(i+1):math.sqrt((i+1))})\n",
    "    \n",
    "\n",
    "print(dic)"
   ]
  },
  {
   "cell_type": "code",
   "execution_count": 45,
   "metadata": {},
   "outputs": [
    {
     "name": "stdout",
     "output_type": "stream",
     "text": [
      "Ingrese la frase solicitada: Hola Alonso\n",
      "· · · ·— — —· — · ·· — · —· — · ·— — —— ·· · ·— — —\n"
     ]
    }
   ],
   "source": [
    "dicciomorse = {\n",
    "    \"A\":\"· —\",\n",
    "    \"B\":\"— · · ·\",\n",
    "    \"C\":\"— · — ·\",\n",
    "    \"D\":\"— · ·\",\n",
    "    \"E\":\"·\",\n",
    "    \"F\":\"· · — ·\",\n",
    "    \"G\":\"— — ·\",\n",
    "    \"H\":\"· · · ·\",\n",
    "    \"I\":\"· ·\",\n",
    "    \"J\":\"· — — —\",\n",
    "    \"K\":\"— · —\",\n",
    "    \"L\":\"· — · ·\",\n",
    "    \"M\":\"— —\",\n",
    "    \"N\":\"— ·\",\n",
    "    \"Ñ\":\"— — · — —\",\n",
    "    \"O\":\"— — —\",\n",
    "    \"P\":\"· — — ·\",\n",
    "    \"Q\":\"— — · —\",\n",
    "    \"R\":\"· — ·\",\n",
    "    \"S\":\"· · ·\",\n",
    "    \"T\":\"—\",\n",
    "    \"U\":\"· · —\",\n",
    "    \"V\":\"· · · —\",\n",
    "    \"W\":\"· — —\",\n",
    "    \"X\":\"— · · —\", \n",
    "    \"Y\":\"— · — —\",\n",
    "    \"Z\":\"— — · ·\",\n",
    "    \" \":\" \"\n",
    "}\n",
    "\n",
    "def readText():\n",
    "    text = input(\"Ingrese la frase solicitada: \")\n",
    "    newtext = \"\"\n",
    "    for t in text:\n",
    "        newtext += dicciomorse[str(t.upper())]\n",
    "        \n",
    "    print(newtext)\n",
    "\n",
    "readText()\n",
    "\n"
   ]
  },
  {
   "cell_type": "code",
   "execution_count": 49,
   "metadata": {},
   "outputs": [
    {
     "name": "stdout",
     "output_type": "stream",
     "text": [
      "['Alonso', 'Andres']\n"
     ]
    }
   ],
   "source": [
    "edades = {\n",
    "    \"Alonso\": 30,\n",
    "    \"Gladys\": 20,\n",
    "    \"Andres\": 32,\n",
    "    \"Antonio\": 40\n",
    "}\n",
    "notas = {\n",
    "    \"Alonso\": 9,\n",
    "    \"Laura\": 8,\n",
    "    \"Carlos\": 10,\n",
    "    \"Andres\": 8\n",
    "}\n",
    "\n",
    "coincidences = []\n",
    "for i in edades.keys():\n",
    "    if i in notas.keys():\n",
    "        coincidences.append(i)\n",
    "    \n",
    "print(coincidences)\n",
    "\n",
    "\n"
   ]
  },
  {
   "cell_type": "code",
   "execution_count": 52,
   "metadata": {},
   "outputs": [
    {
     "name": "stdout",
     "output_type": "stream",
     "text": [
      "Ingrese la frase: Que tal colega\n"
     ]
    },
    {
     "data": {
      "text/plain": [
       "'Que Tal Colega'"
      ]
     },
     "execution_count": 52,
     "metadata": {},
     "output_type": "execute_result"
    }
   ],
   "source": [
    "def readInput():\n",
    "    text = input(\"Ingrese la frase: \")\n",
    "    return text.title()\n",
    "\n",
    "readInput()\n",
    "    "
   ]
  },
  {
   "cell_type": "code",
   "execution_count": 62,
   "metadata": {},
   "outputs": [
    {
     "name": "stdout",
     "output_type": "stream",
     "text": [
      "Ingrese un numero entero \n",
      "6\n",
      "Ingrese un numero entero \n",
      "9\n",
      "6\n"
     ]
    },
    {
     "data": {
      "text/plain": [
       "3"
      ]
     },
     "execution_count": 62,
     "metadata": {},
     "output_type": "execute_result"
    }
   ],
   "source": [
    "a=int(input(\"Ingrese un numero entero \\n\"))\n",
    "b=int(input(\"Ingrese un numero entero \\n\"))\n",
    "print(6%9)\n",
    "def mcd(a,b):\n",
    "    resto = 0\n",
    "    while(b > 0):\n",
    "        resto = b\n",
    "        b = a % b\n",
    "        a = resto\n",
    "    return a\n",
    "\n",
    "mcd(a,b)\n",
    "        \n",
    "    "
   ]
  },
  {
   "cell_type": "code",
   "execution_count": 87,
   "metadata": {},
   "outputs": [
    {
     "name": "stdout",
     "output_type": "stream",
     "text": [
      "Cadena a Cifrar: B\n",
      "0\n",
      "D\n"
     ]
    }
   ],
   "source": [
    "L='ABCDEFGHIJKLMNOPQRSTUVWXYZ'\n",
    "\n",
    "texto=str(input('Cadena a Cifrar: ')).upper()\n",
    "\n",
    "code='' \n",
    "\n",
    "for letra in texto:\n",
    "    if letra == \" \":\n",
    "        code += \" \"\n",
    "    else:\n",
    "        posicion = L.find(letra)\n",
    "        posicion += 3 \n",
    "        if(posicion > 26):\n",
    "            posicion = posicion%26\n",
    "        code += L[posicion]\n",
    "print(code)\n",
    "\n",
    "\n",
    "    \n",
    "    "
   ]
  },
  {
   "cell_type": "code",
   "execution_count": 75,
   "metadata": {},
   "outputs": [
    {
     "name": "stdout",
     "output_type": "stream",
     "text": [
      "['Alonso', 'Diana', 'Fiorela', 'Gladys', 'Jose', 'Kiara', 'Laura']\n",
      "['Laura', 'Kiara', 'Jose', 'Gladys', 'Fiorela', 'Diana', 'Alonso']\n",
      "['Jose', 'Laura', 'Kiara', 'Diana', 'Gladys', 'Alonso', 'Fiorela']\n"
     ]
    }
   ],
   "source": [
    "nombres = ['Jose','Alonso','Gladys','Laura','Fiorela','Kiara','Diana']\n",
    "\n",
    "def lenOfWord(s):\n",
    "    return len(s)\n",
    "\n",
    "nombres.sort()\n",
    "print(nombres)\n",
    "nombres.sort(reverse=True)\n",
    "print(nombres)\n",
    "nombres.sort(key=lenOfWord)\n",
    "print(nombres)\n"
   ]
  }
 ],
 "metadata": {
  "kernelspec": {
   "display_name": "Python 3",
   "language": "python",
   "name": "python3"
  },
  "language_info": {
   "codemirror_mode": {
    "name": "ipython",
    "version": 3
   },
   "file_extension": ".py",
   "mimetype": "text/x-python",
   "name": "python",
   "nbconvert_exporter": "python",
   "pygments_lexer": "ipython3",
   "version": "3.7.1"
  }
 },
 "nbformat": 4,
 "nbformat_minor": 2
}
